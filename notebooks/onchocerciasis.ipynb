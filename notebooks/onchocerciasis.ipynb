{
 "cells": [
  {
   "cell_type": "markdown",
   "id": "d6fa5357-81b2-410f-affc-bc1e4b14224b",
   "metadata": {},
   "source": [
    "A simple illustration of geographic map drawing using R libraries.\n",
    "\n",
    "<br>"
   ]
  },
  {
   "cell_type": "markdown",
   "id": "b7951c95-ece3-482e-90d1-c073f4809074",
   "metadata": {},
   "source": [
    "## Preliminaries"
   ]
  },
  {
   "cell_type": "code",
   "execution_count": 1,
   "id": "6f3e8d7d-bd4a-4516-ae1c-0b04e4637fab",
   "metadata": {},
   "outputs": [],
   "source": [
    "setwd(base::dirname(getwd()))"
   ]
  },
  {
   "cell_type": "markdown",
   "id": "33773ae4-26c8-486d-beaf-502467695d24",
   "metadata": {},
   "source": [
    "<br>\n",
    "<br>\n",
    "\n",
    "### Libraries"
   ]
  },
  {
   "cell_type": "code",
   "execution_count": null,
   "id": "c8260b2a-7c30-41cf-957f-606338f736e4",
   "metadata": {},
   "outputs": [],
   "source": [
    ".activate <- function (x){\n",
    "    library(x, character.only = TRUE, quietly = TRUE, warn.conflicts = FALSE, verbose = FALSE)\n",
    "    if (x == 'rmarkdown') {library(tinytex)}\n",
    "}\n",
    "packages <- c('tmap', 'sf', 'magrittr', 'tidyr', 'dplyr', 'tibble', 'ggplot2', 'stringr')\n",
    "lapply(X = packages, .activate)"
   ]
  },
  {
   "cell_type": "markdown",
   "id": "cac0bde5-ba26-4304-9898-674b48162387",
   "metadata": {},
   "source": [
    "<br>\n",
    "<br>\n",
    "\n",
    "## Onchocerciasis in Liberia"
   ]
  },
  {
   "cell_type": "markdown",
   "id": "4def0d8d-0df9-4de8-b028-12ccceb4bd48",
   "metadata": {},
   "source": [
    "### A Field Data Set"
   ]
  },
  {
   "cell_type": "markdown",
   "id": "8ea45136-1a22-45be-ba09-84fd651039bd",
   "metadata": {},
   "source": [
    "Reading-in a sample data set; a Liberia *onchocerciasis*, i.e., river blindness, data set."
   ]
  },
  {
   "cell_type": "code",
   "execution_count": 3,
   "id": "01236b4c-5185-4b4b-be14-1d208fb1a038",
   "metadata": {},
   "outputs": [],
   "source": [
    "frame <- read.csv(file = 'data/sample/sample.csv')"
   ]
  },
  {
   "cell_type": "markdown",
   "id": "980e74ed-eb01-4f7b-bc1c-ce32d650e375",
   "metadata": {},
   "source": [
    "<br>\n",
    "\n",
    "A preview of the data set.  Each record represents a location, therefore  `lat` & `long` are a location's latitude & longitude co&ouml;rdinates, respectively.  `ntest` is the the of onchocerciasis tests conducted at a location, whilst `npos` is the number of positive tests.  `elevation` is a location's elevation above sea level; metres. `X` is a record's unique identification number."
   ]
  },
  {
   "cell_type": "code",
   "execution_count": 4,
   "id": "5ba5be6e-8218-483a-bf08-0aff613779a2",
   "metadata": {},
   "outputs": [
    {
     "name": "stdout",
     "output_type": "stream",
     "text": [
      "'data.frame':\t90 obs. of  8 variables:\n",
      " $ X        : int  1 2 3 4 5 6 7 8 9 10 ...\n",
      " $ lat      : num  6.29 6.57 6.57 6.73 6.02 ...\n",
      " $ long     : num  -10.5 -10.5 -10 -10.3 -10 ...\n",
      " $ ntest    : int  50 46 43 50 48 50 43 50 47 43 ...\n",
      " $ npos     : int  14 10 11 10 9 13 9 11 11 0 ...\n",
      " $ utm_x    : num  337051 338909 385902 357021 384698 ...\n",
      " $ utm_y    : num  695084 726563 725802 744298 664992 ...\n",
      " $ elevation: num  17.8 104.9 119.1 144.1 19 ...\n"
     ]
    }
   ],
   "source": [
    "str(frame)"
   ]
  },
  {
   "cell_type": "markdown",
   "id": "7be386af-d2aa-4012-af0b-fa797acb0126",
   "metadata": {},
   "source": [
    "<br>\n",
    "\n",
    "The prevalence, `prev`."
   ]
  },
  {
   "cell_type": "code",
   "execution_count": 5,
   "id": "e9779188-0463-4b85-bd89-1925d8a776ad",
   "metadata": {},
   "outputs": [],
   "source": [
    "frame$prev <- frame$npos / frame$ntest"
   ]
  },
  {
   "cell_type": "markdown",
   "id": "bb4cf419-64b3-4ec8-a0af-ef33bc1526e5",
   "metadata": {},
   "source": [
    "<br>\n",
    "\n",
    "Converting the data set to a geographic data set, and setting its reference co&ouml;rdinates system to Universal Transverse Mercator (UTM). The UTM code of Liberia is $32629$."
   ]
  },
  {
   "cell_type": "code",
   "execution_count": 6,
   "id": "c24cd983-93c1-48e9-9164-d0cc9ea4a47f",
   "metadata": {},
   "outputs": [],
   "source": [
    "utm <- 32629\n",
    "liberia <- st_as_sf(frame, coords = c('utm_x', 'utm_y'))\n",
    "st_crs(liberia) <- utm"
   ]
  },
  {
   "cell_type": "code",
   "execution_count": 7,
   "id": "42e4cb8b-d828-47ad-9a42-8258dda85849",
   "metadata": {},
   "outputs": [
    {
     "name": "stdout",
     "output_type": "stream",
     "text": [
      "Classes 'sf' and 'data.frame':\t90 obs. of  8 variables:\n",
      " $ X        : int  1 2 3 4 5 6 7 8 9 10 ...\n",
      " $ lat      : num  6.29 6.57 6.57 6.73 6.02 ...\n",
      " $ long     : num  -10.5 -10.5 -10 -10.3 -10 ...\n",
      " $ ntest    : int  50 46 43 50 48 50 43 50 47 43 ...\n",
      " $ npos     : int  14 10 11 10 9 13 9 11 11 0 ...\n",
      " $ elevation: num  17.8 104.9 119.1 144.1 19 ...\n",
      " $ prev     : num  0.28 0.217 0.256 0.2 0.188 ...\n",
      " $ geometry :sfc_POINT of length 90; first list element:  'XY' num  337051 695084\n",
      " - attr(*, \"sf_column\")= chr \"geometry\"\n",
      " - attr(*, \"agr\")= Factor w/ 3 levels \"constant\",\"aggregate\",..: NA NA NA NA NA NA NA\n",
      "  ..- attr(*, \"names\")= chr [1:7] \"X\" \"lat\" \"long\" \"ntest\" ...\n"
     ]
    }
   ],
   "source": [
    "str(liberia)"
   ]
  },
  {
   "cell_type": "markdown",
   "id": "2c6d4ed9-14c4-4f22-8efb-20f748ed5d85",
   "metadata": {},
   "source": [
    "<br>\n",
    "<br>\n",
    "\n",
    "### The Borders of Liberia"
   ]
  },
  {
   "cell_type": "markdown",
   "id": "c353f4ec-a42a-4480-83f9-3a58de7d551c",
   "metadata": {},
   "source": [
    "Reading-in the shape file of Liberia's country border."
   ]
  },
  {
   "cell_type": "code",
   "execution_count": 8,
   "id": "8750a43c-ed97-4862-820a-1ca7218ecb96",
   "metadata": {},
   "outputs": [
    {
     "name": "stdout",
     "output_type": "stream",
     "text": [
      "Reading layer `LBR_adm0' from data source \n",
      "  `J:\\library\\premodelling\\mapping\\data\\sample\\liberia\\LBR_adm\\LBR_adm0.shp' \n",
      "  using driver `ESRI Shapefile'\n",
      "Simple feature collection with 1 feature and 70 fields\n",
      "Geometry type: MULTIPOLYGON\n",
      "Dimension:     XY\n",
      "Bounding box:  xmin: -11.48569 ymin: 4.352916 xmax: -7.365113 ymax: 8.55179\n",
      "Geodetic CRS:  WGS 84\n"
     ]
    }
   ],
   "source": [
    "liberia_border <- st_read(dsn = 'data/sample/liberia/LBR_adm/LBR_adm0.shp')\n",
    "liberia_border <- st_transform(liberia_border, crs = utm)"
   ]
  },
  {
   "cell_type": "markdown",
   "id": "332d9824-9aeb-41c8-9a79-fe56e3f88b9c",
   "metadata": {},
   "source": [
    "<br>\n",
    "\n",
    "The border outline of Liberia"
   ]
  },
  {
   "cell_type": "code",
   "execution_count": 9,
   "id": "3dac9782-e349-4bbb-8f9b-1392b5676fb3",
   "metadata": {},
   "outputs": [
    {
     "data": {
      "image/png": "[encoded data removed]",
      "text/plain": [
       "plot without title"
      ]
     },
     "metadata": {
      "image/png": {
       "height": 420,
       "width": 420
      }
     },
     "output_type": "display_data"
    }
   ],
   "source": [
    "outline <- tm_shape(liberia_border) +\n",
    "  tm_layout(main.title = 'Liberia', frame = FALSE) +\n",
    "  tm_borders(lwd = 0.5)\n",
    "outline"
   ]
  },
  {
   "cell_type": "markdown",
   "id": "a1d7c046-a391-4367-84c7-190fffcc4de0",
   "metadata": {},
   "source": [
    "<br>\n",
    "<br>\n",
    "\n",
    "### Illustrating Onchocerciasis Prevalence in Liberia"
   ]
  },
  {
   "cell_type": "markdown",
   "id": "fe62c704-fd08-44a0-a92a-96721a215f33",
   "metadata": {},
   "source": [
    "Overlaying the co&ouml;rdinate points of `liberia` on the map `outline`, above.  The size of the co&ouml;rdinate points is proportional to the `prev` value at that point, i.e., the prevalence of onchocerciasis."
   ]
  },
  {
   "cell_type": "code",
   "execution_count": 10,
   "id": "dd51b970-6959-4ffb-abb0-4666a0708f97",
   "metadata": {},
   "outputs": [],
   "source": [
    "map <- outline +\n",
    "  tm_shape(liberia) +\n",
    "  tm_bubbles(size = 'prev', col = 'prev',\n",
    "             border.col = 'white',\n",
    "             border.alpha = 0,\n",
    "             style = 'fixed',\n",
    "             breaks = seq(0, 0.4, 0.1),\n",
    "             palette = '-RdYlBu',\n",
    "             title.size = 'Onchocerciasis Prevalence',\n",
    "             scale = 1,\n",
    "             title.col = '')"
   ]
  },
  {
   "cell_type": "markdown",
   "id": "97de7418-b17b-48ce-8025-c646a74e58ba",
   "metadata": {},
   "source": [
    "<br>\n",
    "\n",
    "Positioning the legend, and adding a compass."
   ]
  },
  {
   "cell_type": "code",
   "execution_count": 11,
   "id": "f496e514-6c42-4bd3-b1c4-35ad0f6a0392",
   "metadata": {},
   "outputs": [
    {
     "data": {
      "image/png": "[encoded data removed]",
      "text/plain": [
       "plot without title"
      ]
     },
     "metadata": {
      "image/png": {
       "height": 420,
       "width": 420
      }
     },
     "output_type": "display_data"
    }
   ],
   "source": [
    "map +\n",
    "  tm_layout(legend.position = c('left', 'bottom')) +\n",
    "  tm_compass(type = '8star', position = c('right', 'top'))"
   ]
  },
  {
   "cell_type": "markdown",
   "id": "88196d7b-8aeb-4255-9f69-5c39add9154d",
   "metadata": {},
   "source": [
    "<br>\n",
    "<br>\n",
    "\n",
    "## Onchocerciasis Prevalence & Elevation"
   ]
  },
  {
   "cell_type": "markdown",
   "id": "eda20940-7ae7-4001-b190-d11f9e961592",
   "metadata": {},
   "source": [
    "### Elevations"
   ]
  },
  {
   "cell_type": "markdown",
   "id": "6af278d3-e86f-40a8-b972-df3d5a3e8732",
   "metadata": {},
   "source": [
    "Reading-in a raster map of altitudes."
   ]
  },
  {
   "cell_type": "code",
   "execution_count": 12,
   "id": "bb14f971-d8c2-4bca-9619-2068564c619a",
   "metadata": {},
   "outputs": [
    {
     "name": "stdout",
     "output_type": "stream",
     "text": [
      "SpatRaster \n",
      "\n",
      "GEOGCRS[\"unknown\",\n",
      "    DATUM[\"Unknown based on WGS84 ellipsoid\",\n",
      "        ELLIPSOID[\"WGS 84\",6378137,298.257223563,\n",
      "            LENGTHUNIT[\"metre\",1],\n",
      "            ID[\"EPSG\",7030]]],\n",
      "    PRIMEM[\"Greenwich\",0,\n",
      "        ANGLEUNIT[\"degree\",0.0174532925199433],\n",
      "        ID[\"EPSG\",8901]],\n",
      "    CS[ellipsoidal,2],\n",
      "        AXIS[\"longitude\",east,\n",
      "            ORDER[1],\n",
      "            ANGLEUNIT[\"degree\",0.0174532925199433,\n",
      "                ID[\"EPSG\",9122]]],\n",
      "        AXIS[\"latitude\",north,\n",
      "            ORDER[2],\n",
      "            ANGLEUNIT[\"degree\",0.0174532925199433,\n",
      "                ID[\"EPSG\",9122]]]]"
     ]
    }
   ],
   "source": [
    "liberia_altitude <- terra::rast('data/sample/liberia/LBR_alt/LBR_alt.vrt')\n",
    "cat(class(x = liberia_altitude), '\\n\\n')\n",
    "cat(terra::crs(liberia_altitude))"
   ]
  },
  {
   "cell_type": "markdown",
   "id": "4e6b6fe3-b730-4b77-b1eb-a435f04e338a",
   "metadata": {},
   "source": [
    "<br>\n",
    "\n",
    "Projecting to the UTM co&ouml;rdinate reference system (CRS); inline with the CRS of `liberia`."
   ]
  },
  {
   "cell_type": "code",
   "execution_count": 13,
   "id": "52fbc4e6-befa-4b31-ad0b-7906be1e3e1f",
   "metadata": {},
   "outputs": [],
   "source": [
    "liberia_altitude <- terra::project(liberia_altitude, paste0('EPSG:', utm), method = 'bilinear')"
   ]
  },
  {
   "cell_type": "markdown",
   "id": "f004a10b-4e65-4019-8e8d-364821270a8d",
   "metadata": {},
   "source": [
    "<br>\n",
    "\n",
    "Additionally, trimming out extraneous terrains."
   ]
  },
  {
   "cell_type": "code",
   "execution_count": 14,
   "id": "e34275a5-b04f-497d-87be-12570733107c",
   "metadata": {},
   "outputs": [],
   "source": [
    "liberia_altitude <- terra::mask(liberia_altitude, terra::vect(liberia_border))"
   ]
  },
  {
   "cell_type": "markdown",
   "id": "50cbd5d6-c6ae-4d7c-a26c-2a72f950a9cb",
   "metadata": {},
   "source": [
    "<br>\n",
    "\n",
    "A preview of the raster of altitudes"
   ]
  },
  {
   "cell_type": "code",
   "execution_count": 15,
   "id": "0151017b-d5c0-4bac-a628-e2e5b2d08052",
   "metadata": {},
   "outputs": [
    {
     "data": {
      "image/png": "[encoded data removed]",
      "text/plain": [
       "plot without title"
      ]
     },
     "metadata": {
      "image/png": {
       "height": 420,
       "width": 420
      }
     },
     "output_type": "display_data"
    }
   ],
   "source": [
    "tmap::tm_shape(liberia_altitude) +\n",
    "    tmap::tm_layout(main.title = 'Liberia', frame = FALSE) +\n",
    "    tmap::tm_raster(title = 'Elevation (m)')"
   ]
  },
  {
   "cell_type": "markdown",
   "id": "e9cab0ce-544f-4e83-8497-5c22aadfa411",
   "metadata": {},
   "source": [
    "<br>\n",
    "\n",
    "### Elevations Raster & Prevalence"
   ]
  },
  {
   "cell_type": "markdown",
   "id": "56ada2e6-ec3a-4b3f-8efa-2fbd2b84ceb4",
   "metadata": {},
   "source": [
    "In the diagram below, the size of each point is proportional to onchocerciasis prevavlece at that point."
   ]
  },
  {
   "cell_type": "code",
   "execution_count": 16,
   "id": "fa3f0d43-9e65-4686-9440-18ffc3d65c9f",
   "metadata": {},
   "outputs": [
    {
     "data": {
      "image/png": "[encoded data removed]",
      "text/plain": [
       "plot without title"
      ]
     },
     "metadata": {
      "image/png": {
       "height": 420,
       "width": 420
      }
     },
     "output_type": "display_data"
    }
   ],
   "source": [
    "tmap::tm_shape(liberia_altitude) +\n",
    "    tmap::tm_layout(main.title = 'Liberia', frame = FALSE) +\n",
    "    tmap::tm_raster(title = 'Elevation (m)') + \n",
    "    tmap::tm_shape(liberia) + \n",
    "    tmap::tm_bubbles(size = 'prev', col = 'black',\n",
    "             border.col = 'white',\n",
    "             border.alpha = 0,\n",
    "             style = 'fixed',\n",
    "             breaks = seq(0, 0.4, 0.1),\n",
    "             title.size = 'Onchocerciasis Prevalence',\n",
    "             scale = 1,\n",
    "             title.col = '') + \n",
    "    tmap::tm_layout(legend.position = c('left', 'bottom'))"
   ]
  },
  {
   "cell_type": "markdown",
   "id": "ac9f84cd-4b85-45ba-b78e-8f27fa4d7c6e",
   "metadata": {},
   "source": [
    "<br>\n",
    "\n",
    "### Elevation Values & Prevalence"
   ]
  },
  {
   "cell_type": "markdown",
   "id": "99385143-e790-4078-967d-25e0f0272e1f",
   "metadata": {},
   "source": [
    "The altitude value at a co&ouml;rdinate point can be extracted from an appropriate topographic raster.  `liberia` is the geographic form of the data frame `frame`, it is used to extract the elevation value per co&ouml;rdinate point in `frame`"
   ]
  },
  {
   "cell_type": "code",
   "execution_count": 17,
   "id": "02a13788-9916-4481-a1e8-5be028692714",
   "metadata": {},
   "outputs": [],
   "source": [
    "frame$elevation <- terra::extract(liberia_altitude, terra::vect(liberia)) %>%\n",
    "  dplyr::select(!ID) %>%\n",
    "  unlist() %>%\n",
    "  as.numeric()"
   ]
  },
  {
   "cell_type": "code",
   "execution_count": 18,
   "id": "1400ef75-9dac-4c38-ac26-e3637577b80d",
   "metadata": {},
   "outputs": [
    {
     "name": "stdout",
     "output_type": "stream",
     "text": [
      "'data.frame':\t90 obs. of  9 variables:\n",
      " $ X        : int  1 2 3 4 5 6 7 8 9 10 ...\n",
      " $ lat      : num  6.29 6.57 6.57 6.73 6.02 ...\n",
      " $ long     : num  -10.5 -10.5 -10 -10.3 -10 ...\n",
      " $ ntest    : int  50 46 43 50 48 50 43 50 47 43 ...\n",
      " $ npos     : int  14 10 11 10 9 13 9 11 11 0 ...\n",
      " $ utm_x    : num  337051 338909 385902 357021 384698 ...\n",
      " $ utm_y    : num  695084 726563 725802 744298 664992 ...\n",
      " $ elevation: num  17.9 101.1 119.5 150.3 20.4 ...\n",
      " $ prev     : num  0.28 0.217 0.256 0.2 0.188 ...\n"
     ]
    }
   ],
   "source": [
    "str(frame)"
   ]
  },
  {
   "cell_type": "markdown",
   "id": "c1625262-fa1a-4b66-9677-1e40790769af",
   "metadata": {},
   "source": [
    "<br>\n",
    "<br>\n",
    "\n",
    "A graph of *prevalence* against *elevation*.  Note that `mar = c(bottom, left, top, right)`\n"
   ]
  },
  {
   "cell_type": "code",
   "execution_count": 19,
   "id": "faa2e675-21c1-40f5-a828-12d17e11f4fa",
   "metadata": {},
   "outputs": [
    {
     "data": {
      "image/png": "[encoded data removed]",
      "text/plain": [
       "Plot with title \"Onchocerciasis Prevalence & \n",
       " Elevation\""
      ]
     },
     "metadata": {
      "image/png": {
       "height": 420,
       "width": 420
      }
     },
     "output_type": "display_data"
    }
   ],
   "source": [
    "graphics::par(mar = c(5, 5, 2, 2), fin = c(6, 4.5))\n",
    "plot(x = frame$elevation, y = frame$prev, frame.plot = FALSE, \n",
    "     xlab = 'elevation (metres)', ylab = 'prevalence', main = 'Onchocerciasis Prevalence & \\n Elevation')"
   ]
  }
 ],
 "metadata": {
  "kernelspec": {
   "display_name": "R",
   "language": "R",
   "name": "ir"
  },
  "language_info": {
   "codemirror_mode": "r",
   "file_extension": ".r",
   "mimetype": "text/x-r-source",
   "name": "R",
   "pygments_lexer": "r",
   "version": "4.1.2"
  }
 },
 "nbformat": 4,
 "nbformat_minor": 5
}
